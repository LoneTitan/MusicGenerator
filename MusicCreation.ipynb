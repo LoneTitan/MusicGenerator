{
 "cells": [
  {
   "cell_type": "code",
   "execution_count": 41,
   "metadata": {},
   "outputs": [
    {
     "name": "stderr",
     "output_type": "stream",
     "text": [
      "Using TensorFlow backend.\n"
     ]
    }
   ],
   "source": [
    "from music21 import *\n",
    "import os\n",
    "import numpy as np\n",
    "from keras.layers import *\n",
    "from keras.models import *\n",
    "from keras.callbacks import *\n",
    "import keras.backend as K"
   ]
  },
  {
   "cell_type": "code",
   "execution_count": 58,
   "metadata": {},
   "outputs": [],
   "source": [
    "def read_midi(file):\n",
    "    print(\"Loading Music File \" + file)\n",
    "    \n",
    "    notes = []\n",
    "    notes_to_parse = None\n",
    "    \n",
    "    midi = converter.parse(file)    \n",
    "    s2 = instrument.partitionByInstrument(midi)\n",
    "    \n",
    "    for part in s2.parts:\n",
    "        if 'Piano' in str(part): \n",
    "            notes_to_parse = part.recurse() \n",
    "            for element in notes_to_parse:\n",
    "                if isinstance(element, note.Note):\n",
    "                    notes.append(str(element.pitch))\n",
    "                elif isinstance(element, chord.Chord):\n",
    "                    notes.append('.'.join(str(n) for n in element.normalOrder))\n",
    "        if 'Drum' in str(part): \n",
    "            notes_to_parse = part.recurse() \n",
    "            for element in notes_to_parse:\n",
    "                if isinstance(element, note.Note):\n",
    "                    notes.append(str(element.pitch))\n",
    "                elif isinstance(element, chord.Chord):\n",
    "                    notes.append('.'.join(str(n) for n in element.normalOrder))\n",
    "    return np.array(notes)\n"
   ]
  },
  {
   "cell_type": "code",
   "execution_count": 59,
   "metadata": {},
   "outputs": [
    {
     "name": "stdout",
     "output_type": "stream",
     "text": [
      "Loading Music File /Users/lonetitan/Documents/Self/MusicGenerator/MIDI_files/schumm-1.mid\n",
      "Loading Music File /Users/lonetitan/Documents/Self/MusicGenerator/MIDI_files/schumm-2.mid\n",
      "Loading Music File /Users/lonetitan/Documents/Self/MusicGenerator/MIDI_files/schub_d960_4.mid\n",
      "Loading Music File /Users/lonetitan/Documents/Self/MusicGenerator/MIDI_files/schumm-3.mid\n",
      "Loading Music File /Users/lonetitan/Documents/Self/MusicGenerator/MIDI_files/schub_d960_1.mid\n",
      "Loading Music File /Users/lonetitan/Documents/Self/MusicGenerator/MIDI_files/schumm-6.mid\n",
      "Loading Music File /Users/lonetitan/Documents/Self/MusicGenerator/MIDI_files/schumm-4.mid\n",
      "Loading Music File /Users/lonetitan/Documents/Self/MusicGenerator/MIDI_files/schub_d960_2.mid\n",
      "Loading Music File /Users/lonetitan/Documents/Self/MusicGenerator/MIDI_files/schub_d960_3.mid\n",
      "Loading Music File /Users/lonetitan/Documents/Self/MusicGenerator/MIDI_files/schumm-5.mid\n",
      "Loading Music File /Users/lonetitan/Documents/Self/MusicGenerator/MIDI_files/schuim-4.mid\n",
      "Loading Music File /Users/lonetitan/Documents/Self/MusicGenerator/MIDI_files/schuim-1.mid\n",
      "Loading Music File /Users/lonetitan/Documents/Self/MusicGenerator/MIDI_files/schuim-3.mid\n",
      "Loading Music File /Users/lonetitan/Documents/Self/MusicGenerator/MIDI_files/schuim-2.mid\n",
      "Loading Music File /Users/lonetitan/Documents/Self/MusicGenerator/MIDI_files/schubert_D850_4.mid\n",
      "Loading Music File /Users/lonetitan/Documents/Self/MusicGenerator/MIDI_files/schubert_D935_4.mid\n",
      "Loading Music File /Users/lonetitan/Documents/Self/MusicGenerator/MIDI_files/schub_d760_4.mid\n",
      "Loading Music File /Users/lonetitan/Documents/Self/MusicGenerator/MIDI_files/schubert_D850_1.mid\n",
      "Loading Music File /Users/lonetitan/Documents/Self/MusicGenerator/MIDI_files/schubert_D935_1.mid\n",
      "Loading Music File /Users/lonetitan/Documents/Self/MusicGenerator/MIDI_files/schub_d760_1.mid\n",
      "Loading Music File /Users/lonetitan/Documents/Self/MusicGenerator/MIDI_files/schubert_D850_2.mid\n",
      "Loading Music File /Users/lonetitan/Documents/Self/MusicGenerator/MIDI_files/schub_d760_3.mid\n",
      "Loading Music File /Users/lonetitan/Documents/Self/MusicGenerator/MIDI_files/schubert_D935_2.mid\n",
      "Loading Music File /Users/lonetitan/Documents/Self/MusicGenerator/MIDI_files/schubert_D935_3.mid\n",
      "Loading Music File /Users/lonetitan/Documents/Self/MusicGenerator/MIDI_files/schubert_D850_3.mid\n",
      "Loading Music File /Users/lonetitan/Documents/Self/MusicGenerator/MIDI_files/schub_d760_2.mid\n",
      "Loading Music File /Users/lonetitan/Documents/Self/MusicGenerator/MIDI_files/schu_143_2.mid\n",
      "Loading Music File /Users/lonetitan/Documents/Self/MusicGenerator/MIDI_files/schu_143_3.mid\n",
      "Loading Music File /Users/lonetitan/Documents/Self/MusicGenerator/MIDI_files/schu_143_1.mid\n"
     ]
    }
   ],
   "source": [
    "path = '/Users/lonetitan/Documents/Self/MusicGenerator/MIDI_files'\n",
    "files=[i for i in os.listdir(path) if i.endswith(\".mid\")]\n",
    "notes_array = np.array([read_midi(path+\"/\"+i) for i in files])"
   ]
  },
  {
   "cell_type": "code",
   "execution_count": 60,
   "metadata": {},
   "outputs": [
    {
     "data": {
      "text/plain": [
       "array([array(['G4', 'G3', 'A4', ..., '5.7', '0', '0.4.7'], dtype='<U6'),\n",
       "       array(['8.0', '3.8', '1.7', ..., '8.0.3', '3.8', '8.0.3'], dtype='<U7'),\n",
       "       array([], dtype=float64),\n",
       "       array(['F3', '0.5', 'F3', '0.5', 'F3', '0.5', 'F3', '0.5', 'B-4', 'G#4',\n",
       "       'F3', 'G#4', '0.5', 'B-4', 'G#4', 'F3', 'G4', '0.4', 'G#4', 'B-4',\n",
       "       '8.0', 'F3', '0.5', 'G#4', 'B-4', '8.0', 'F3', '0.5', 'B-4', 'G#4',\n",
       "       'F3', 'G#4', '0.5', 'B-4', 'G#4', 'F3', '7.0', '0.4', 'C5', '5.8',\n",
       "       'F3', '0.5', 'C5', '5.8', 'F3', '0.5', 'F#5', '5.8', 'C#3', 'G#4',\n",
       "       'F5', '1.5', 'F#5', '5.9', 'C3', '5.9', '0.3.5', 'B-4', 'F5',\n",
       "       'B-2', 'B-5', '10.1.5', '5.8', 'F3', '0.5', '8.0', 'C3', '7.10',\n",
       "       '5.8', '0.5', '7.10', 'G#4', 'C5', 'C3', 'C#5', '7.10', 'C5',\n",
       "       '0.4', 'E5', '5.8.0', 'F3', '0.5', '5.8.0', 'F3', '0.5', 'B-4',\n",
       "       'G#4', 'F3', 'G#4', '0.5', 'B-4', 'G#4', 'F3', 'G4', '0.4', 'G#4',\n",
       "       'B-4', '8.0', 'F3', '0.5', 'G#4', 'B-4', '8.0', 'F3', '0.5', 'B-4',\n",
       "       'G#4', 'F3', 'G#4', '0.5', 'B-4', 'G#4', 'F3', '7.0', '0.4', 'C5',\n",
       "       '5.8', 'F3', '0.5', 'C5', '5.8', 'F3', '0.5', 'F#5', '5.8', 'C#3',\n",
       "       'G#4', 'F5', '1.5', 'F#5', '5.9', 'C3', '5.9', '0.3.5', 'B-4',\n",
       "       'F5', 'B-2', 'B-5', '10.1.5', '5.8', 'F3', '0.5', '8.0', 'C3',\n",
       "       '7.10', '5.8', '0.5', '7.10', 'G#4', 'C5', 'C3', 'C#5', '7.10',\n",
       "       'C5', '0.4', 'E5', '5.8.0', 'F3', '0.5', '5.8.0', 'F3', '0.5',\n",
       "       'C5', 'G#3', '8.0.3', 'C5', 'G#3', '8.0.3', 'C5', 'G#3', 'C#5',\n",
       "       'E-5', '3.7.10', 'C#5', 'C#5', 'G#3', '3.7.10', 'C5', 'C5', 'B-4',\n",
       "       'G#3', 'B-4', '1.3.7', 'C5', 'G#3', 'B-4', 'G#4', '1.3.7', 'B-4',\n",
       "       'B-4', 'G#3', '8.0.3', 'C5', 'G#3', '8.0.3', 'E-5', '8.0', 'G#3',\n",
       "       '8.0.3', 'E-5', '8.0', 'G#3', '8.0.3', '3.7', 'C#3', '1.5', '0.4',\n",
       "       '1.5', '1.5', '1.5', 'C#3', '1.5', '1.7', 'F5', 'E-3', 'E-5',\n",
       "       '1.3', 'G4', '10.1.3', 'G#4', 'B-4', 'E-3', 'G#4', '1.3', '10.1.3',\n",
       "       'G4', '8.0.3', 'G#3', '0.3', '8.0.3', 'G#3', '0.3', 'C5', 'G#3',\n",
       "       '8.0.3', 'C5', 'G#3', '8.0.3', 'C5', 'G#3', 'C#5', 'E-5', '3.7.10',\n",
       "       'C#5', 'C#5', 'G#3', '3.7.10', 'C5', 'C5', 'B-4', 'G#3', 'B-4',\n",
       "       '1.3.7', 'C5', 'G#3', 'B-4', 'G#4', '1.3.7', 'B-4', 'B-4', 'G#3',\n",
       "       '8.0.3', 'C5', 'G#3', '8.0.3', 'E-5', '8.0', 'G#3', '8.0.3', 'E-5',\n",
       "       '8.0', 'G#3', '8.0.3', '3.7', 'C#3', '1.5', '0.4', '1.5', '1.5',\n",
       "       '1.5', 'C#3', '1.5', '1.7', 'F5', 'E-3', 'E-5', '1.3', 'G4',\n",
       "       '10.1.3', 'G#4', 'B-4', 'E-3', 'G#4', '1.3', '10.1.3', 'G4',\n",
       "       '8.0.3', 'G#3', '0.3', '8.0.3', 'G#3', '0.3', '4.7.10.0', 'C3',\n",
       "       '0.4', '4.7.10.0', 'C3', '0.4', 'F5', '8.0', 'C3', '8.0', 'G#5',\n",
       "       '0.5', 'G5', 'F5', 'C3', 'E-5', '0.5', 'C#5', '7.10.0', 'C3',\n",
       "       '0.4', '4.7.10.0', 'C3', '0.4', 'F5', '8.0', 'C3', '8.0', 'G#5',\n",
       "       '0.5', 'G5', 'F5', 'F3', 'E-5', '0.5', 'C#5', '8.0', 'G#2', '8.0',\n",
       "       '0.6', 'A2', '0.6', 'C5', 'F4', 'B-2', 'C#5', 'E-5', '5.10', 'C#5',\n",
       "       '1.5', 'C#2', '0.3', '1.5', '10.1', '8.0', 'E-2', '8.0', '3.8',\n",
       "       '8.0', 'E-2', '10.1', '0.3', '3.7', '10.1', '8.0', 'G#2', '3.8',\n",
       "       '8.0', 'G#2', '3.8', '4.7.10.0', 'C3', '0.4', '4.7.10.0', 'C3',\n",
       "       '0.4', 'F5', '8.0', 'C3', '8.0', 'G#5', '0.5', 'G5', 'F5', 'C3',\n",
       "       'E-5', '0.5', 'C#5', '7.10.0', 'C3', '0.4', '4.7.10.0', 'C3',\n",
       "       '0.4', 'F5', '8.0', 'C3', '8.0', 'G#5', '0.5', 'G5', 'F5', 'F3',\n",
       "       'E-5', '0.5', 'C#5', '8.0', 'G#2', '8.0', '0.6', 'A2', '0.6', 'C5',\n",
       "       'F4', 'B-2', 'C#5', 'E-5', '5.10', 'C#5', '1.5', 'C#2', '0.3',\n",
       "       '1.5', '10.1', '8.0', 'E-2', '8.0', '3.8', '8.0', 'E-2', '10.1',\n",
       "       '0.3', '3.7', '10.1', '8.0', 'G#2', '3.8', '8.0', 'G#2', '3.8',\n",
       "       'B-4', 'G#4', 'F3', 'G#4', '0.5', 'B-4', 'G#4', 'F3', 'G4', '0.4',\n",
       "       'G#4', 'B-4', '8.0', 'F3', '0.5', 'G#4', 'B-4', '8.0', 'F3', '0.5',\n",
       "       'B-4', 'G#4', 'F3', 'G#4', '0.5', 'B-4', 'G#4', 'F3', '7.0', '0.4',\n",
       "       'C5', '5.8', 'F3', '0.5', 'C5', '5.8', 'F3', '0.5', 'F#5', '5.8',\n",
       "       'C#3', 'G#4', 'F5', '1.5', 'F#5', '5.9', 'C3', '5.9', '0.3.5',\n",
       "       'B-4', 'F5', 'B-2', 'B-5', '10.1.5', '5.8', 'F3', '0.5', '8.0',\n",
       "       'C3', '7.10', '5.8', '0.5', '7.10', 'G#4', 'C5', 'C3', 'C#5',\n",
       "       '7.10', 'C5', '0.4', 'E5', '5.8.0', 'F3', '0.5', '5.8.0', 'F3',\n",
       "       '0.5', 'G#5', '4.7', 'B-2', 'E5', 'G5', '10.1', 'G#5', 'G5', 'B-2',\n",
       "       '4.7', '10.1', 'F5', 'B-5', 'B2', 'G#5', '11.2', 'B2', 'G5',\n",
       "       '11.2', 'F5', 'C#5', '8.0', 'C3', 'G#4', 'C5', '0.5', 'C#5', 'C5',\n",
       "       'C3', '4.7.10.0', '0.4', '5.8.0', 'F3', '0.5', '5.8.0', 'F3',\n",
       "       '0.5', 'G#5', '4.7', 'B-2', 'E5', 'G5', '10.1', 'G#5', 'G5', 'B-2',\n",
       "       '4.7', '10.1', 'F5', 'B-5', 'B2', 'G#5', '11.2', 'B2', 'G5',\n",
       "       '11.2', 'F5', 'D5', '9.0', 'C3', 'A4', 'C5', '0.5', 'D5', 'C5',\n",
       "       'C3', '10.2', '0.4', 'D5', '9.0', 'C3', 'A4', 'C5', '0.5', 'D5',\n",
       "       'C5', 'C3', '10.2', '0.4', 'D5', '9.0', 'C3', 'A4', 'C5', '0.5',\n",
       "       'D5', 'C5', 'C3', '4.10', '7.0', '5.9', 'F2', '0.5', '5.9', 'F2',\n",
       "       '0.5', 'D5', '9.0', 'F2', 'A4', 'C5', '0.5', 'D5', 'C5', 'F2',\n",
       "       '5.9', '0.5', '4.10', 'F2', '7.0', '4.10', 'F2', '7.0', 'C5',\n",
       "       '4.10', 'F2', 'B-4', 'E4', '7.0', 'C5', 'B-4', 'F2', '4.10', '7.0',\n",
       "       '5.9', 'F2', '0.5', '5.9', 'F2', '0.5', 'D5', '9.0', 'F2', 'A4',\n",
       "       'C5', '0.5', 'D5', 'C5', 'F2', '3.9', '0.6', '4.10', 'F2', '7.0',\n",
       "       '4.10', 'F2', '7.0', 'C5', '4.10', 'F2', 'B-4', 'E4', '7.0', 'C5',\n",
       "       'B-4', 'F2', '4.10', '1.7', '5.9', 'F2', '0.5', '5.9', 'F2', '0.5',\n",
       "       '5.9', 'F2', '0.5', '5.9', 'F2', '0.5', '5.9', '0.5'], dtype='<U8'),\n",
       "       array([], dtype=float64),\n",
       "       array(['8.0.3', 'G#3', '5.8', 'C5', 'C#4', 'B-4', '5.7.10', '1.5', 'F5',\n",
       "       '8.0', 'C4', 'F4', 'E-5', 'E-4', 'C4', 'E-4', 'G#3', 'G#4', 'E-3',\n",
       "       'C5', 'C3', '1.3.7', '3.7.10', '8.0.3', '3.8', '10.3', '3.7',\n",
       "       '8.10.2', '5.10', '2.8', 'B-4', '10.3', '3.7', '8.0.3', 'G#3',\n",
       "       'C5', '5.8', 'C#4', 'B-4', '5.7.11', '1', '7.0', 'F5', '0', 'E5',\n",
       "       '0.4.7', '0.4', '1.3.7', '10.3', '8.0.3', '3.8', '10.1.5', 'C#3',\n",
       "       '1.7', 'C5', 'E-3', 'B-4', '7.10.1', '3.8', '8.0', '8.11.2',\n",
       "       '4.8.11', 'D4', '8.11', 'E3', '8.11', 'E-4', 'E-3', '4.8.11',\n",
       "       '8.11.1', 'E4', '8.11', 'C#3', '8.11', 'E-4', 'B2', '8.11.3',\n",
       "       '8.11', 'B-4', '4.8', 'C#3', '8.10', 'E5', 'B-4', 'E-5', 'B-2',\n",
       "       'C#5', 'B4', 'B2', '10.1.4', 'C#3', 'E-4', '8.11', 'E-3', '7.10',\n",
       "       '8.11.2', '4.8.11', 'D4', '8.11', 'E3', '8.11', 'E-4', 'E-3',\n",
       "       '4.8.11', '8.11.1', 'E4', '8.11', 'C#3', '8.11', 'E-4', 'B2',\n",
       "       '4.8.11', '4.8.11', 'B4', 'E4', 'G#4', '4.8.11', 'E5', 'B4', 'B4',\n",
       "       'E-5', '4.8.11', 'C#5', 'B4', 'G#4', 'F4', 'C#4', '5.8.11', 'C#5',\n",
       "       'F4', '1.6', 'C#5', 'B2', '6.9', 'A4', '4.8', '8.11', '3.6',\n",
       "       '9.11', '4.8.11', '11.4', 'E4', 'G#4', 'B4', '1.4.7.10', 'E2',\n",
       "       '4.8.11', 'F#4', 'G#4', '9.0', 'E-4', 'E2', 'A2', '8.11', 'B2',\n",
       "       '6.9', 'C3', '4.8', '11.4', 'E4', 'G#4', 'B4', '1.4.7.10', 'E2',\n",
       "       '4.8.11', 'F#4', 'G#4', '9.0', 'E-4', 'E2', 'A2', '8.11', 'B2',\n",
       "       '6.9', 'C3', '4.8', '11.4', 'G#4', '4.8', '11.4', '4.8', '11.4',\n",
       "       'E4', 'G#4', '11.4', 'E-4', '2.8', '4.8', 'E-4', 'G#4', '10.3',\n",
       "       'G4', 'G#4', 'B-4', 'C5', '1.5.8', '1.3.5.8', '1.5.8', '1.3.5.8',\n",
       "       'E-5', '7.10', '7.10.1.3', 'C#5', 'C5', 'C#5', 'E-5', '7.10', '3',\n",
       "       '7.10.1', '3.8', '8.0', '5.8.0', '5.8.0', '5.8.0', '5.8.0',\n",
       "       '5.8.0', '5.8.0', 'G#5', '8.0', '8.0', '7', '5.8.0', '8.0', 'F5',\n",
       "       '7.10.1', 'F4', '7.10.1', 'E5', 'E4', 'B-4', 'E-5', '3.7', 'D5',\n",
       "       'C#5', '8.0.3', 'G#3', '5.8', 'C5', 'C#4', 'B-4', '5.7.10', '1.5',\n",
       "       '8.0', 'F5', 'F4', 'C4', 'E-5', 'E-4', 'C4', 'E-4', 'G#3', 'G#4',\n",
       "       'E-3', 'C5', 'C3', '1.3.7', '3.7.10', '8.0.3', '3.8', '10.3',\n",
       "       '3.7', '8.10.2', '5.10', '2.8', 'B-4', '10.3', '3.7', '8.0.3', '8',\n",
       "       '4.8', 'C5', '1', 'B4', 'B-4', '8.0.3', '8', '4.8', 'C5', '1',\n",
       "       'B4', 'B-4', '4.8.11', '2', '4.8.11', '2', '4.8.11', '2', '4.8.11',\n",
       "       '2', '9.1.4', '1', '11.2.4', '11', '1.4', '9', '11.2.4', '11',\n",
       "       '9.1.4', '1', 'E-4', '8.11', '3', '7.10', '8.11.2.4', '8.11.2.4',\n",
       "       '8.11.2.4', '8.11.2.4', '9.1.4', '11.2.4', 'F#4', '9.1.4',\n",
       "       '11.2.4', '9.1.4', 'E-3', '8.11', '3.7.10', '8', 'F4', '1.5.8',\n",
       "       'F4', '1.5.8', 'F#4', 'F4', 'E-4', '0.3.6.8', 'F4', 'E-4', '1.5.8',\n",
       "       '6.10.1', '7.10.1.3', 'C#3', '8.0.3', '8.1', '1.5', '8.1', '1.5',\n",
       "       '10', 'C#4', '6', 'C#3', '8', '5', '8.1', '1.5', '1', '10', '10',\n",
       "       '6', '6', '3', '3.6.9', '0', '0.3.6.8', '8', '1.5.8', '1', '5.8',\n",
       "       '8.1', '5.8', 'F5', '8.1', 'F#5', 'F5', '6.8', 'E-5', '8.0.3',\n",
       "       'F5', 'E-5', '1.5.8', '1.5.8', '6.10.1', '6.10.1', '10.1.3',\n",
       "       '7.10.1.3', 'G#4', '8.0.3', '8.1', '1.5', '8.1', '1.5', '10',\n",
       "       'C#5', '6', 'C#4', '8', '5', '8.1', '1.5', '1', '10', '10', '6',\n",
       "       '6', '3', '3.6.9', '0', '0.3.6.8', '8', '1.5.8', '1', '3.8', '8.0',\n",
       "       '3.8', '8.0', '1', 'G#4', '10', 'G#3', '3', '0', '8.0', '8', '3.8',\n",
       "       '8.0', '5.8', '8.1', '6.8', '3.8', '8', '5.8', '8.10', '6.8',\n",
       "       '3.8', '8.0', '4.8', 'F5', '5.8', '8.1', 'F#5', 'F5', '3', 'G#4',\n",
       "       'G#3', '0', '2', '11', '1.7', '10.3', 'C5', '1.7', 'E-3', 'B-4',\n",
       "       '3.6', '3.9', 'C#5', '3.6', '3.9', 'C5', '1.7', '10.3', 'C5',\n",
       "       '1.7', 'E-3', 'B-4', 'C4', 'G#4', 'E-3', 'G#2', 'G4', 'F#4', 'G#3',\n",
       "       'F4', '1.5.8', 'F#4', 'F4', 'E-4', '0.3.6.8', 'F4', 'E-4', '1.5.8',\n",
       "       '6.10.1', '7.10.1.3', '8.0.3', '8.1', '1.5', '8.1', '1.5', '10',\n",
       "       'C#4', 'C#3', '6', '8', '5', '8.1', '1.5', '5.8', '8.1', '3.8',\n",
       "       '8.0', '1.5', '5.10', '8.0.3', '6.8', '1.5.8', '1.5.8', '8.1',\n",
       "       '1.5', '8.1', '1.5', '10', 'C#5', '6', 'C#4', '8', '5', '8.1',\n",
       "       '1.5', '1.5.8', '8.0.3', '10.1.5', '0.3.6.8', '1.5.8', '3.8',\n",
       "       '8.0', '3.8', '8.0', '1', 'G#4', '10', 'G#3', '3', '0', '8.0', '8',\n",
       "       '3.8', '8.0', '5.8', '8.1', '6.8', '3.8', '8', '5.8', '8.10',\n",
       "       '6.8', '3.8', '8.0', '4.8', 'F5', '5.8', '8.1', 'F#5', 'F5', '3',\n",
       "       'G#4', 'G#3', '0', '2', '11', '1.7', '10.3', 'C5', '1.7', 'E-3',\n",
       "       'B-4', '3.6', '3.9', 'C#5', '3.6', '3.9', 'C5', '1.7', '10.3',\n",
       "       'C5', '1.7', 'E-3', 'B-4', 'C4', 'G#4', 'E-3', 'G#2', 'G4', 'F#4',\n",
       "       'G#3', 'F4', '1.5.8', 'F#4', 'F4', 'E-4', '0.3.6.8', 'F4', 'E-4',\n",
       "       '1.5.8', '6.10.1', '7.10.1.3', '8.0.3', '8.1', '1.5', '8.1', '1.5',\n",
       "       '10', 'C#4', '6', 'C#3', '8', '5', '8.1', '1.5', '5.8', '8.1',\n",
       "       '3.8', '8.0', '1.5', '5.10', '8.0.3', '6.8', '1.5.8', '1.5.8',\n",
       "       '8.1', '1.5', '8.1', '1.5', '10', 'C#5', '6', 'C#4', '8', '5',\n",
       "       '8.1', '1.5', '1.5.8', '8.0.3', '10.1.5', '0.3.6.8', '1.5.8',\n",
       "       '8.0.3', 'G#3', '5.8', 'C5', 'C#4', 'B-4', '5.7.10', '1.5', '8.0',\n",
       "       'F5', 'F4', 'C4', 'E-5', 'E-4', 'C4', 'E-4', 'G#3', 'G#4', 'E-3',\n",
       "       'C5', 'C3', '1.3.7', '3.7.10', '8.0.3', '3.8', '10.3', '3.7',\n",
       "       '8.10.2', '5.10', '2.8', 'B-4', '10.3', '3.7', '8.0.3', 'G#3',\n",
       "       '5.8', 'C5', 'C#4', 'B-4', '5.7.11', '1', '7.0', 'F5', '0', 'E5',\n",
       "       '0.4.7', '0.4', '1.3.7', '10.3', '8.0.3', '3.8', '10.1.5', 'C#3',\n",
       "       'C5', '1.7', 'E-3', 'B-4', '7.10.1', '3.8', '8.0', '8.11.2',\n",
       "       '4.8.11', 'D4', '8.11', 'E3', '8.11', 'E-4', 'E-3', '4.8.11',\n",
       "       '8.11.1', 'E4', '8.11', 'C#3', '8.11', 'E-4', 'B2', '8.11.3',\n",
       "       '8.11', 'B-4', '4.8', 'C#3', '8.10', 'E5', 'B-4', 'E-5', 'B-2',\n",
       "       'C#5', 'B4', 'B2', '10.1.4', 'C#3', 'E-4', '8.11', 'E-3', '7.10',\n",
       "       '8.11.2', '4.8.11', 'D4', '8.11', 'E3', '8.11', 'E-4', 'E-3',\n",
       "       '4.8.11', '8.11.1', 'E4', '8.11', 'C#3', '8.11', 'E-4', 'B2',\n",
       "       '4.8.11', '4.8.11', 'B4', 'E4', 'G#4', '4.8.11', 'E5', 'B4', 'B4',\n",
       "       'E-5', '4.8.11', 'C#5', 'B4', 'G#4', 'F4', 'C#4', '5.8.11', 'C#5',\n",
       "       'F4', '1.6', 'C#5', 'B2', '6.9', 'A4', '4.8', '8.11', '3.6',\n",
       "       '9.11', '4.8.11', '11.4', 'E4', 'G#4', 'B4', '1.4.7.10', 'E2',\n",
       "       '4.8.11', 'F#4', 'G#4', '9.0', 'E-4', 'E2', 'A2', '8.11', 'B2',\n",
       "       '6.9', 'C3', '4.8', '11.4', 'E4', 'G#4', 'B4', '1.4.7.10', 'E2',\n",
       "       '4.8.11', 'F#4', 'G#4', '9.0', 'E-4', 'E2', 'A2', '8.11', 'B2',\n",
       "       '6.9', 'C3', '4.8', '11.4', 'G#4', '4.8', '11.4', '4.8', '11.4',\n",
       "       'E4', 'G#4', '11.4', 'E-4', '2.8', '4.8', 'E-4', 'G#4', '10.3',\n",
       "       'G4', 'G#4', 'B-4', 'C5', '1.5.8', '1.3.5.8', '1.5.8', '1.3.5.8',\n",
       "       'E-5', '7.10', '7.10.1.3', 'C#5', 'C5', 'C#5', 'E-5', '7.10', '3',\n",
       "       '7.10.1', '3.8', '8.0', '5.8.0', '5.8.0', '5.8.0', '5.8.0',\n",
       "       '5.8.0', '5.8.0', 'G#5', '8.0', '8.0', '7', '5.8.0', '8.0', 'F5',\n",
       "       '7.10.1', 'F4', '7.10.1', 'E5', 'E4', 'B-4', 'E-5', '3.7', 'D5',\n",
       "       'C#5', '8.0.3', 'G#3', '5.8', 'C5', 'C#4', 'B-4', '5.7.10', '1.5',\n",
       "       '8.0', 'F5', 'F4', 'C4', 'E-5', 'E-4', 'C4', 'E-4', 'G#3', 'G#4',\n",
       "       'E-3', 'C5', 'C3', '1.3.7', '3.7.10', '8.0.3', '3.8', '10.3',\n",
       "       '3.7', '8.10.2', '5.10', '2.8', 'B-4', '10.3', '3.7', '8.0.3', '8',\n",
       "       '4.8', 'C5', '1', 'B4', 'B-4', '8.0.3', '8', '4.8', 'C5', '1',\n",
       "       'B4', 'B-4', '4.8.11', '2', '4.8.11', '2', '4.8.11', '2', '4.8.11',\n",
       "       '2', '9.1.4', '1', '11.2.4', '11', '1.4', '9', '11.2.4', '11',\n",
       "       '9.1.4', '1', 'E-4', '8.11', '3', '7.10', '8.11.2.4', '8.11.2.4',\n",
       "       '8.11.2.4', '8.11.2.4', '9.1.4', '11.2.4', 'F#4', '9.1.4',\n",
       "       '11.2.4', '9.1.4', 'E-3', '8.11', '3.7.10', '8'], dtype='<U8'),\n",
       "       array(['G#4', 'E4', 'C#3', ..., 'G#2', 'C4', '1.4.8'], dtype='<U6'),\n",
       "       array([], dtype=float64), array([], dtype=float64),\n",
       "       array(['8.0', '5', '7.8.0', ..., '5', '5', 'F3'], dtype='<U6'),\n",
       "       array(['B5', 'G#2', 'E-6', ..., '3', '8.0.3', '8'], dtype='<U8'),\n",
       "       array(['7', '7', 'B4', ..., '7.0', '0.4.7', '7.0'], dtype='<U8'),\n",
       "       array(['B-4', '1.6', 'B-3', ..., 'B-1', '6.10', '1.6'], dtype='<U6'),\n",
       "       array(['B-5', 'G5', 'E-3', ..., '10', '3.6.10', '10.3'], dtype='<U9'),\n",
       "       array(['2.6', '6.9', '2.6', ..., 'A2', '2.6', '9.2'], dtype='<U8'),\n",
       "       array(['C#5', 'C5', 'F3', ..., 'G#1', 'G1', 'F1'], dtype='<U8'),\n",
       "       array(['0', '0', '0', ..., '0.4.7', '0.4.7', '0.4.7'], dtype='<U8'),\n",
       "       array(['2.6.9', '2', '9.2', ..., '2.6.9', '2.6.9', '9.2'], dtype='<U8'),\n",
       "       array(['C4', 'F4', 'C3', ..., '0.5', '5.8.0', '0.5'], dtype='<U8'),\n",
       "       array(['0.4.7', '7.0', '0.4.7', ..., '6.9', '0.3', '6.8'], dtype='<U8'),\n",
       "       array(['1.4', '4.9', '2.6', ..., '9.1.4', '9.1.4', '9.1.4'], dtype='<U8'),\n",
       "       array(['G4', 'G3', 'G#4', ..., '7', '7.11.2', '7.11.2'], dtype='<U8'),\n",
       "       array(['E-4', 'E-3', '8.0.3', ..., '1.3', '8', '8.0.3'], dtype='<U8'),\n",
       "       array(['D5', 'B-2', 'D4', ..., '5.10', '10.2.5', '5.10'], dtype='<U8'),\n",
       "       array(['7.9.1', '9', '7.9.1', ..., '9.2', '2.6.9', '9.2'], dtype='<U8'),\n",
       "       array(['1.4.8', '1.4.8', '1.4.8', ..., 'E3', 'G#2', 'E3'], dtype='<U8'),\n",
       "       array(['9.0', '0.5', 'F4', 'F3', 'A4', 'A3', '2', '0', 'G4', '0.4.7',\n",
       "       '10', '7', '9', '5.9', '9.2', '7.10.0', '0.4', '5.9.0', '0.5',\n",
       "       'C4', 'C3', 'C#4', 'C4', 'C#3', 'C3', 'B3', 'B2', 'C4', 'C#4',\n",
       "       'C3', 'C#3', 'C4', 'C3', '9.0', '0.5', 'F4', 'F3', 'A4', 'A3',\n",
       "       '9.2', '2.5.9', '9.2', '2.5.9', '5', '9', '10.1', '4.7.9', '10.1',\n",
       "       '4.7.9', '9.0', '5.9', '7.10', 'C5', 'E4', 'C4', '5.9', '5', 'C4',\n",
       "       'C3', 'C#4', 'C4', 'C#3', 'C3', 'B3', 'B2', 'C4', 'C#4', 'C3',\n",
       "       'C#3', 'C4', 'C3', 'G3', 'C4', '0.4', 'E4', 'E3', 'G4', 'G3',\n",
       "       '10.1', '1.4.7', '10.2', 'F2', 'D3', 'F4', 'F3', 'B-4', 'B-3',\n",
       "       '10.2.5', '10.2', '3.6', 'D3', '9.0', '2.5', 'B-3', '0.5', '9',\n",
       "       '1.4', '7.10', 'A2', '0.5', 'A3', '5.9', '0.5', '0', 'G4', '0.4.7',\n",
       "       '10', '7', '9', '5.9', '9.2', '4.7.10', 'C2', 'C3', '5.9', 'F2',\n",
       "       'C4', 'C3', 'C#4', 'C4', 'C#3', 'C3', 'B3', 'B2', 'C4', 'C#4',\n",
       "       'C3', 'C#3', 'C4', 'C3', '0', 'G5', '0.4.7', '10', '7', '9', '5.9',\n",
       "       '9.2', '4.7', '10.0', 'C4', '5', '5.9', 'C5', 'C4', 'C#5', 'C5',\n",
       "       'C#4', 'C4', 'B4', 'B3', 'C5', 'C#5', 'C4', 'C#4', 'C5', 'C4',\n",
       "       'F4', 'F3', 'F#4', 'F4', 'F#3', 'F3', 'E4', 'E3', 'F4', 'F#4',\n",
       "       'F3', 'F#3', 'F4', 'F3', 'E-4', 'C#4', 'E-3', 'C#3', 'C4', 'C3',\n",
       "       'C#4', 'E-4', 'C#3', 'E-3', 'C#4', 'C#3', 'C4', 'B-3', 'C3', 'B-2',\n",
       "       'A3', 'A2', 'B-3', 'C4', 'B-2', 'C3', 'B-3', 'B-2', 'G#3', 'F#3',\n",
       "       'G#2', 'F#2', '1.5.8', '1.5.8', '1.5.8', 'C#2', '1.5.8', '1.5.8',\n",
       "       '1.5.8', '1.5.8', '1.5.8', '3.8', 'C#5', 'G#1', 'E-2', 'E-2', 'C5',\n",
       "       'E-2', 'G#2', 'G#2', '10.1.5', 'B-2', '10.1.5', '10.1.5', '10.1.5',\n",
       "       '10.1.5', '10.1.5', 'B-4', '0.5', 'F1', 'C2', 'C2', 'G#4', 'C2',\n",
       "       'F2', 'F2', '6.10.1', 'F#2', '6.10.1', '6.10.1', '6.10.1',\n",
       "       '6.10.1', '6.10.1', '6.10.1', 'F#2', 'G#2', 'F#2', 'G#2', '6.10.1',\n",
       "       'F#2', 'G#2', 'F#2', 'G#2', '6.10.1', 'F#2', 'G#2', 'F#2',\n",
       "       '6.10.1', 'G#2', 'F#2', 'G#2', 'F#2', 'G#2', '6.10.1', 'F#2',\n",
       "       'G#2', 'F#2', 'G#2', '6.10.1', 'F#2', 'G#2', 'F#2', '6.10.1',\n",
       "       'G#2', 'F#2', 'G#2', 'F#2', 'G#2', '6.10.1', 'F#2', 'G#2', 'F#2',\n",
       "       'G#2', '6.10.1', 'F#2', 'G#2', 'F#2', '6.10.1', 'G#2', 'F#2',\n",
       "       'G#2', 'F#2', 'G#2', '6.10.1', 'F#2', 'G#2', 'F#2', 'G#2',\n",
       "       '6.10.1', 'F#2', 'G#2', 'F#2', '8.1', 'G#2', '6', '5', '5',\n",
       "       '8.11.1', '6', '6.10.1', '6.10.1', '8.1', '6', '5', '5', '8.11.1',\n",
       "       '6', '6.10.1', '6.10.1', '4.10', '8', '7', '7', '10.2', '7',\n",
       "       '10.3', '10.3', '4.10', '8', '7', '7', '10.2', '7', '10.3', '10.3',\n",
       "       '4.10', '7', '7', '7', '4.10', '7', '7', '7', '4.10', '7', '7',\n",
       "       '7', '4.10', '7', '7', '7', '11.2.5', '7', '7', '7', '11.2.5', '7',\n",
       "       '7', '7', '0.3.6.9', '7', '7', '7', '0.3.6.9', '7', '7', '7',\n",
       "       '7.11.2', '7', 'G5', 'G5', 'G4', 'G5', 'G5', 'G4', 'G5', 'G5',\n",
       "       'G4', 'G5', 'G5', 'G4', '2.5', 'G5', 'G5', 'G4', 'G5', 'G5', 'G4',\n",
       "       '0.4', 'G5', 'G5', 'G4', '2.7', 'G5', 'G5', 'E5', '0.4.7', 'G5',\n",
       "       'G5', 'G5', 'C6', 'C4', 'C6', 'C6', 'E4', 'E6', 'E6', 'E6', 'A4',\n",
       "       'A6', 'A6', 'B2', 'A6', 'G3', 'G4', 'G6', 'G6', 'G6', 'F6', 'F4',\n",
       "       'F6', 'F6', 'D4', 'D6', 'D6', 'D6', 'E4', 'E6', 'E6', 'A2', 'E5',\n",
       "       'E3', 'C4', 'C6', 'C6', 'D6', 'C6', 'C6', 'B2', 'B5', 'G3', 'F4',\n",
       "       'F6', 'F6', 'G6', 'F6', 'F6', 'C3', 'E6', 'G3', 'E4', 'C5', 'E5',\n",
       "       'C4', 'G4', 'F5', 'E5', 'E-5', '6.9', 'E5', 'F5', 'E5', 'G4', 'E5',\n",
       "       '0.4.7', 'G5', 'G5', 'G5', 'C6', 'C4', 'C6', 'C6', 'E4', 'E6',\n",
       "       'E6', 'C3', 'E6', 'C4', 'A4', 'A6', 'A6', 'E5', '9.0.4', 'A5',\n",
       "       'A5', 'A5', 'C6', 'C4', 'C6', 'C6', 'E4', 'E6', 'E6', 'E6',\n",
       "       '11.2.4', '5.8', '11.2.4', '5.8', '11.2.4', '5.8', '11.2.4', 'G5',\n",
       "       '0.4', 'F6', 'E6', 'F5', '7.11', 'E6', 'D6', '0.4', 'C4', 'C5',\n",
       "       'E5', 'C4', 'G4', 'F5', 'E5', 'E-5', '6.9', 'E5', 'F5', 'E5', 'G4',\n",
       "       'G4', '0.4', 'C5', 'C5', 'C5', 'E5', 'E3', 'E5', 'E5', 'G3', 'G5',\n",
       "       'G5', 'E2', '10.1', 'G5', 'C#3', 'B-3', 'B-5', 'B-5', '10.1',\n",
       "       'B-4', '2.5', 'D5', 'D5', 'D5', 'F5', 'F3', 'F5', 'F5', 'B-3',\n",
       "       'B-5', 'B-5', 'B-5', '10.2', '2.5', '10.2', '2.5', '10.2', '3.6',\n",
       "       '9.0.2', 'F5', '10.2', 'E-6', 'D6', 'F5', '5.9', 'D6', 'C6', '1.4',\n",
       "       '7.9.10', 'C5', '5.9', 'C#6', 'C6', 'C5', '5', 'C3', 'B-5', 'A5',\n",
       "       'E2', 'D6', 'C4', 'C6', 'C6', 'C6', 'B-5', 'B-3', 'B-5', 'B-5',\n",
       "       'G3', 'G5', 'G5', 'G5', 'A3', 'A5', 'A5', 'D2', 'A4', 'A2', 'F3',\n",
       "       'F5', 'F5', 'G5', 'F5', 'F5', 'E2', 'E5', 'C3', 'G3', 'B-5', 'B-5',\n",
       "       'C6', 'B-5', 'B-5', 'F2', 'A5', 'C3', 'A3', 'A4', 'F4', 'C4', 'F3',\n",
       "       'B-4', 'A4', 'G#4', '11.2', 'A4', 'B-4', 'A4', 'C4', 'E3', 'D7',\n",
       "       'C4', 'C5', 'C7', 'C7', 'C7', 'B-6', 'B-4', 'B-6', 'B-6', 'G4',\n",
       "       'G6', 'G6', 'G6', 'A4', 'A6', 'A6', 'D3', 'A5', 'A3', 'F4', 'F6',\n",
       "       'F6', 'G6', 'F6', 'F6', 'C3', 'B-5', 'B-3', 'E4', 'G6', 'G6',\n",
       "       'B-6', 'A6', 'G6', 'F6', '5.9', 'F4', 'A4', 'F3', 'C4', 'B-4',\n",
       "       'A4', 'G#4', '11.2', 'A4', 'B-4', 'A4', 'C4', 'C5', 'C4', 'C#5',\n",
       "       'C5', 'C#4', 'C4', 'B4', 'B3', 'C5', 'C#5', 'C4', 'C#4', 'C5',\n",
       "       'C4', 'B4', 'B3', 'C5', 'C#5', 'C4', 'C#4', 'C5', 'C4', 'B-4',\n",
       "       'G#4', 'B-3', 'G#3', 'G4', 'G3', 'G#4', 'B-4', 'G#3', 'B-3', 'G#4',\n",
       "       'G#3', 'G4', 'F4', 'G3', 'F3', 'C4', '5.9.0', 'C5', 'D5', 'E5',\n",
       "       'F5', 'G5', 'A5', '10.1', '4.7.9', 'B-5', 'C#5', 'C6', 'B-5', 'C6',\n",
       "       'B-5', 'C6', 'B-5', 'C6', 'A5', 'B-5', 'E6', 'B-5', 'A5', 'C5',\n",
       "       'B-5', '5.9', 'A5', 'B-5', 'A5', 'B-5', 'A5', 'B-5', 'G#5', 'A5',\n",
       "       'C6', 'A5', 'C5', 'G5', 'A5', '7.10.0', 'G5', 'A5', 'G5', 'A5',\n",
       "       'G5', 'A5', 'F#5', 'G5', 'B-5', 'G5', 'C5', 'C4', 'C#5', 'C5',\n",
       "       'C#4', 'C4', 'B4', 'B3', 'C5', 'C#5', 'C4', 'C#4', 'C5', 'C4',\n",
       "       'B4', 'B3', 'C5', 'C#5', 'C4', 'C#4', 'C5', 'C4', 'B-4', 'G#4',\n",
       "       'B-3', 'G#3', 'G4', 'G3', 'G#4', 'B-4', 'G#3', 'B-3', 'G#4', 'G#3',\n",
       "       'G4', 'F4', 'G3', 'F3', 'E-4', '8.0.3', 'E-5', 'F5', 'G5', 'G#5',\n",
       "       'B-5', 'C6', '1.4', '7.10.0', 'E5', 'C#6', 'E-6', 'C#6', 'E-6',\n",
       "       'C#6', 'E-6', 'C#6', 'E-6', 'C6', 'C#6', 'G6', 'C#6', 'C6', 'E-5',\n",
       "       'C#6', '8.0', 'C6', 'C#6', 'C6', 'C#6', 'C6', 'C#6', 'B5', 'C6',\n",
       "       'E-6', 'C6', 'E-5', 'B-5', 'C6', '1.3.7', 'B-5', 'C6', 'B-5', 'C6',\n",
       "       'B-5', 'C6', 'A5', 'B-5', 'C#6', 'B-5', 'B-4', 'G4', '1.4', 'C5',\n",
       "       'B-4', 'A4', 'B-4', 'C5', 'B-4', '10.1', '4.7.9', 'C#4', 'B-4',\n",
       "       'C5', 'B-4', 'C5', 'B-4', 'C5', 'B-4', 'C5', 'A4', 'B-4', 'E5',\n",
       "       'B-4', 'C4', 'A4', 'B-4', '5.9', 'A4', 'B-4', 'A4', 'B-4', 'A4',\n",
       "       'B-4', 'G#4', 'A4', 'C5', 'A4', 'C4', 'G4', 'A4', '7.10.0', 'G4',\n",
       "       'A4', 'G4', 'A4', 'G4', 'A4', 'F#4', 'G4', 'B-4', 'G4', '9.0',\n",
       "       '0.5', 'F4', 'F3', 'A4', 'A3', '2', 'C2', '0', 'E4', 'B-2', 'G3',\n",
       "       '10', '7', '9', '5.9', '9.2', '4.7.10', 'C3', 'C2', '5.9', 'F2',\n",
       "       '5.9', '0.5', '5.9', '0.5'], dtype='<U7'),\n",
       "       array(['A4', 'B4', 'C5', ..., '9.0.4', '9.0.4', '9.0.4'], dtype='<U8'),\n",
       "       array(['A4', 'A3', 'E5', ..., '4.9', '9.1.4', '4.9'], dtype='<U8')],\n",
       "      dtype=object)"
      ]
     },
     "execution_count": 60,
     "metadata": {},
     "output_type": "execute_result"
    }
   ],
   "source": [
    "notes_array"
   ]
  },
  {
   "cell_type": "code",
   "execution_count": 61,
   "metadata": {},
   "outputs": [
    {
     "name": "stdout",
     "output_type": "stream",
     "text": [
      "304\n"
     ]
    }
   ],
   "source": [
    "notes_ = [element for note_ in notes_array for element in note_]\n",
    "unique_notes = list(set(notes_))\n",
    "print(len(unique_notes))"
   ]
  },
  {
   "cell_type": "code",
   "execution_count": 62,
   "metadata": {},
   "outputs": [
    {
     "data": {
      "text/plain": [
       "(array([187.,  41.,  26.,  11.,   6.,   9.,  12.,   6.,   3.,   3.]),\n",
       " array([1.0000e+00, 1.4790e+02, 2.9480e+02, 4.4170e+02, 5.8860e+02,\n",
       "        7.3550e+02, 8.8240e+02, 1.0293e+03, 1.1762e+03, 1.3231e+03,\n",
       "        1.4700e+03]),\n",
       " <a list of 10 Patch objects>)"
      ]
     },
     "execution_count": 62,
     "metadata": {},
     "output_type": "execute_result"
    },
    {
     "data": {
      "image/png": "[encoded data removed]",
      "text/plain": [
       "<Figure size 360x360 with 1 Axes>"
      ]
     },
     "metadata": {
      "image/png": {
       "height": 302,
       "width": 319
      },
      "needs_background": "light"
     },
     "output_type": "display_data"
    }
   ],
   "source": [
    "from collections import Counter\n",
    "import matplotlib.pyplot as plt\n",
    "freq = dict(Counter(notes_))\n",
    "no=[count for _,count in freq.items()]\n",
    "plt.figure(figsize=(5,5))\n",
    "plt.hist(no)"
   ]
  },
  {
   "cell_type": "code",
   "execution_count": 63,
   "metadata": {},
   "outputs": [
    {
     "name": "stdout",
     "output_type": "stream",
     "text": [
      "177\n"
     ]
    }
   ],
   "source": [
    "frequent_notes = [note_ for note_, count in freq.items() if count>=40]\n",
    "print(len(frequent_notes))\n"
   ]
  },
  {
   "cell_type": "code",
   "execution_count": 64,
   "metadata": {},
   "outputs": [],
   "source": [
    "new_music=[]\n",
    "\n",
    "for notes in notes_array:\n",
    "    temp=[]\n",
    "    for note_ in notes:\n",
    "        if note_ in frequent_notes:\n",
    "            temp.append(note_)            \n",
    "    new_music.append(temp)\n",
    "    \n",
    "new_music = np.array(new_music)"
   ]
  },
  {
   "cell_type": "code",
   "execution_count": 65,
   "metadata": {},
   "outputs": [],
   "source": [
    "no_of_timesteps = 32\n",
    "x = []\n",
    "y = []\n",
    "\n",
    "for note_ in new_music:\n",
    "    for i in range(0, len(note_) - no_of_timesteps, 1):\n",
    "        \n",
    "        #preparing input and output sequences\n",
    "        input_ = note_[i:i + no_of_timesteps]\n",
    "        output = note_[i + no_of_timesteps]\n",
    "        \n",
    "        x.append(input_)\n",
    "        y.append(output)\n",
    "        \n",
    "x=np.array(x)\n",
    "y=np.array(y)"
   ]
  },
  {
   "cell_type": "code",
   "execution_count": 66,
   "metadata": {},
   "outputs": [],
   "source": [
    "unique_x = list(set(x.ravel()))\n",
    "x_note_to_int = dict((note_, number) for number, note_ in enumerate(unique_x))"
   ]
  },
  {
   "cell_type": "code",
   "execution_count": 67,
   "metadata": {},
   "outputs": [],
   "source": [
    "x_seq=[]\n",
    "for i in x:\n",
    "    temp=[]\n",
    "    for j in i:\n",
    "        #assigning unique integer to every note\n",
    "        temp.append(x_note_to_int[j])\n",
    "    x_seq.append(temp)\n",
    "    \n",
    "x_seq = np.array(x_seq)"
   ]
  },
  {
   "cell_type": "code",
   "execution_count": 68,
   "metadata": {},
   "outputs": [],
   "source": [
    "unique_y = list(set(y))\n",
    "y_note_to_int = dict((note_, number) for number, note_ in enumerate(unique_y)) \n",
    "y_seq=np.array([y_note_to_int[i] for i in y])"
   ]
  },
  {
   "cell_type": "code",
   "execution_count": 69,
   "metadata": {},
   "outputs": [],
   "source": [
    "unique_y = list(set(y))\n",
    "y_note_to_int = dict((note_, number) for number, note_ in enumerate(unique_y)) \n",
    "y_seq=np.array([y_note_to_int[i] for i in y])"
   ]
  },
  {
   "cell_type": "code",
   "execution_count": 70,
   "metadata": {},
   "outputs": [],
   "source": [
    "from sklearn.model_selection import train_test_split\n",
    "x_tr, x_val, y_tr, y_val = train_test_split(x_seq,y_seq,test_size=0.2,random_state=0)"
   ]
  },
  {
   "cell_type": "markdown",
   "metadata": {},
   "source": [
    "WaveNet"
   ]
  },
  {
   "cell_type": "code",
   "execution_count": 101,
   "metadata": {},
   "outputs": [
    {
     "name": "stdout",
     "output_type": "stream",
     "text": [
      "Model: \"sequential_12\"\n",
      "_________________________________________________________________\n",
      "Layer (type)                 Output Shape              Param #   \n",
      "=================================================================\n",
      "embedding_3 (Embedding)      (None, 32, 100)           17700     \n",
      "_________________________________________________________________\n",
      "conv1d_22 (Conv1D)           (None, 32, 64)            19264     \n",
      "_________________________________________________________________\n",
      "dropout_7 (Dropout)          (None, 32, 64)            0         \n",
      "_________________________________________________________________\n",
      "max_pooling1d_7 (MaxPooling1 (None, 16, 64)            0         \n",
      "_________________________________________________________________\n",
      "conv1d_23 (Conv1D)           (None, 16, 128)           24704     \n",
      "_________________________________________________________________\n",
      "dropout_8 (Dropout)          (None, 16, 128)           0         \n",
      "_________________________________________________________________\n",
      "max_pooling1d_8 (MaxPooling1 (None, 8, 128)            0         \n",
      "_________________________________________________________________\n",
      "conv1d_24 (Conv1D)           (None, 8, 256)            98560     \n",
      "_________________________________________________________________\n",
      "dropout_9 (Dropout)          (None, 8, 256)            0         \n",
      "_________________________________________________________________\n",
      "max_pooling1d_9 (MaxPooling1 (None, 4, 256)            0         \n",
      "_________________________________________________________________\n",
      "global_max_pooling1d_3 (Glob (None, 256)               0         \n",
      "_________________________________________________________________\n",
      "dense_17 (Dense)             (None, 256)               65792     \n",
      "_________________________________________________________________\n",
      "dense_18 (Dense)             (None, 177)               45489     \n",
      "=================================================================\n",
      "Total params: 271,509\n",
      "Trainable params: 271,509\n",
      "Non-trainable params: 0\n",
      "_________________________________________________________________\n"
     ]
    }
   ],
   "source": [
    "model = Sequential()\n",
    "    \n",
    "#embedding layer\n",
    "model.add(Embedding(len(unique_x), 100, input_length=32,trainable=True)) \n",
    "\n",
    "model.add(Conv1D(64,3, padding='causal',activation='relu'))\n",
    "model.add(Dropout(0.2))\n",
    "model.add(MaxPool1D(2))\n",
    "    \n",
    "model.add(Conv1D(128,3,activation='relu',dilation_rate=2,padding='causal'))\n",
    "model.add(Dropout(0.2))\n",
    "model.add(MaxPool1D(2))\n",
    "\n",
    "model.add(Conv1D(256,3,activation='relu',dilation_rate=4,padding='causal'))\n",
    "model.add(Dropout(0.2))\n",
    "model.add(MaxPool1D(2))\n",
    "          \n",
    "#model.add(Conv1D(256,5,activation='relu'))    \n",
    "model.add(GlobalMaxPool1D())\n",
    "    \n",
    "model.add(Dense(256, activation='relu'))\n",
    "model.add(Dense(len(unique_y), activation='softmax'))\n",
    "    \n",
    "model.compile(loss='sparse_categorical_crossentropy', optimizer='adam')\n",
    "\n",
    "model.summary()"
   ]
  },
  {
   "cell_type": "code",
   "execution_count": null,
   "metadata": {},
   "outputs": [],
   "source": []
  },
  {
   "cell_type": "code",
   "execution_count": null,
   "metadata": {},
   "outputs": [],
   "source": []
  },
  {
   "cell_type": "code",
   "execution_count": 102,
   "metadata": {},
   "outputs": [],
   "source": [
    "mc=ModelCheckpoint('best_model.h5', monitor='val_loss', mode='min', save_best_only=True,verbose=1)"
   ]
  },
  {
   "cell_type": "code",
   "execution_count": 121,
   "metadata": {},
   "outputs": [
    {
     "name": "stdout",
     "output_type": "stream",
     "text": [
      "Train on 51890 samples, validate on 12973 samples\n",
      "Epoch 1/50\n",
      "15104/51890 [=======>......................] - ETA: 7s - loss: 2.3118"
     ]
    },
    {
     "ename": "KeyboardInterrupt",
     "evalue": "",
     "output_type": "error",
     "traceback": [
      "\u001b[0;31m---------------------------------------------------------------------------\u001b[0m",
      "\u001b[0;31mKeyboardInterrupt\u001b[0m                         Traceback (most recent call last)",
      "\u001b[0;32m<ipython-input-121-0f04d130b451>\u001b[0m in \u001b[0;36m<module>\u001b[0;34m\u001b[0m\n\u001b[0;32m----> 1\u001b[0;31m \u001b[0mhistory\u001b[0m \u001b[0;34m=\u001b[0m \u001b[0mmodel\u001b[0m\u001b[0;34m.\u001b[0m\u001b[0mfit\u001b[0m\u001b[0;34m(\u001b[0m\u001b[0mnp\u001b[0m\u001b[0;34m.\u001b[0m\u001b[0marray\u001b[0m\u001b[0;34m(\u001b[0m\u001b[0mx_tr\u001b[0m\u001b[0;34m)\u001b[0m\u001b[0;34m,\u001b[0m\u001b[0mnp\u001b[0m\u001b[0;34m.\u001b[0m\u001b[0marray\u001b[0m\u001b[0;34m(\u001b[0m\u001b[0my_tr\u001b[0m\u001b[0;34m)\u001b[0m\u001b[0;34m,\u001b[0m\u001b[0mbatch_size\u001b[0m\u001b[0;34m=\u001b[0m\u001b[0;36m128\u001b[0m\u001b[0;34m,\u001b[0m\u001b[0mepochs\u001b[0m\u001b[0;34m=\u001b[0m\u001b[0;36m50\u001b[0m\u001b[0;34m,\u001b[0m \u001b[0mvalidation_data\u001b[0m\u001b[0;34m=\u001b[0m\u001b[0;34m(\u001b[0m\u001b[0mnp\u001b[0m\u001b[0;34m.\u001b[0m\u001b[0marray\u001b[0m\u001b[0;34m(\u001b[0m\u001b[0mx_val\u001b[0m\u001b[0;34m)\u001b[0m\u001b[0;34m,\u001b[0m\u001b[0mnp\u001b[0m\u001b[0;34m.\u001b[0m\u001b[0marray\u001b[0m\u001b[0;34m(\u001b[0m\u001b[0my_val\u001b[0m\u001b[0;34m)\u001b[0m\u001b[0;34m)\u001b[0m\u001b[0;34m,\u001b[0m\u001b[0mverbose\u001b[0m\u001b[0;34m=\u001b[0m\u001b[0;36m1\u001b[0m\u001b[0;34m,\u001b[0m \u001b[0mcallbacks\u001b[0m\u001b[0;34m=\u001b[0m\u001b[0;34m[\u001b[0m\u001b[0mmc\u001b[0m\u001b[0;34m]\u001b[0m\u001b[0;34m)\u001b[0m\u001b[0;34m\u001b[0m\u001b[0;34m\u001b[0m\u001b[0m\n\u001b[0m",
      "\u001b[0;32m~/Library/Python/3.7/lib/python/site-packages/keras/engine/training.py\u001b[0m in \u001b[0;36mfit\u001b[0;34m(self, x, y, batch_size, epochs, verbose, callbacks, validation_split, validation_data, shuffle, class_weight, sample_weight, initial_epoch, steps_per_epoch, validation_steps, validation_freq, max_queue_size, workers, use_multiprocessing, **kwargs)\u001b[0m\n\u001b[1;32m   1237\u001b[0m                                         \u001b[0msteps_per_epoch\u001b[0m\u001b[0;34m=\u001b[0m\u001b[0msteps_per_epoch\u001b[0m\u001b[0;34m,\u001b[0m\u001b[0;34m\u001b[0m\u001b[0;34m\u001b[0m\u001b[0m\n\u001b[1;32m   1238\u001b[0m                                         \u001b[0mvalidation_steps\u001b[0m\u001b[0;34m=\u001b[0m\u001b[0mvalidation_steps\u001b[0m\u001b[0;34m,\u001b[0m\u001b[0;34m\u001b[0m\u001b[0;34m\u001b[0m\u001b[0m\n\u001b[0;32m-> 1239\u001b[0;31m                                         validation_freq=validation_freq)\n\u001b[0m\u001b[1;32m   1240\u001b[0m \u001b[0;34m\u001b[0m\u001b[0m\n\u001b[1;32m   1241\u001b[0m     def evaluate(self,\n",
      "\u001b[0;32m~/Library/Python/3.7/lib/python/site-packages/keras/engine/training_arrays.py\u001b[0m in \u001b[0;36mfit_loop\u001b[0;34m(model, fit_function, fit_inputs, out_labels, batch_size, epochs, verbose, callbacks, val_function, val_inputs, shuffle, initial_epoch, steps_per_epoch, validation_steps, validation_freq)\u001b[0m\n\u001b[1;32m    194\u001b[0m                     \u001b[0mins_batch\u001b[0m\u001b[0;34m[\u001b[0m\u001b[0mi\u001b[0m\u001b[0;34m]\u001b[0m \u001b[0;34m=\u001b[0m \u001b[0mins_batch\u001b[0m\u001b[0;34m[\u001b[0m\u001b[0mi\u001b[0m\u001b[0;34m]\u001b[0m\u001b[0;34m.\u001b[0m\u001b[0mtoarray\u001b[0m\u001b[0;34m(\u001b[0m\u001b[0;34m)\u001b[0m\u001b[0;34m\u001b[0m\u001b[0;34m\u001b[0m\u001b[0m\n\u001b[1;32m    195\u001b[0m \u001b[0;34m\u001b[0m\u001b[0m\n\u001b[0;32m--> 196\u001b[0;31m                 \u001b[0mouts\u001b[0m \u001b[0;34m=\u001b[0m \u001b[0mfit_function\u001b[0m\u001b[0;34m(\u001b[0m\u001b[0mins_batch\u001b[0m\u001b[0;34m)\u001b[0m\u001b[0;34m\u001b[0m\u001b[0;34m\u001b[0m\u001b[0m\n\u001b[0m\u001b[1;32m    197\u001b[0m                 \u001b[0mouts\u001b[0m \u001b[0;34m=\u001b[0m \u001b[0mto_list\u001b[0m\u001b[0;34m(\u001b[0m\u001b[0mouts\u001b[0m\u001b[0;34m)\u001b[0m\u001b[0;34m\u001b[0m\u001b[0;34m\u001b[0m\u001b[0m\n\u001b[1;32m    198\u001b[0m                 \u001b[0;32mfor\u001b[0m \u001b[0ml\u001b[0m\u001b[0;34m,\u001b[0m \u001b[0mo\u001b[0m \u001b[0;32min\u001b[0m \u001b[0mzip\u001b[0m\u001b[0;34m(\u001b[0m\u001b[0mout_labels\u001b[0m\u001b[0;34m,\u001b[0m \u001b[0mouts\u001b[0m\u001b[0;34m)\u001b[0m\u001b[0;34m:\u001b[0m\u001b[0;34m\u001b[0m\u001b[0;34m\u001b[0m\u001b[0m\n",
      "\u001b[0;32m/usr/local/lib/python3.7/site-packages/tensorflow/python/keras/backend.py\u001b[0m in \u001b[0;36m__call__\u001b[0;34m(self, inputs)\u001b[0m\n\u001b[1;32m   3790\u001b[0m         \u001b[0mvalue\u001b[0m \u001b[0;34m=\u001b[0m \u001b[0mmath_ops\u001b[0m\u001b[0;34m.\u001b[0m\u001b[0mcast\u001b[0m\u001b[0;34m(\u001b[0m\u001b[0mvalue\u001b[0m\u001b[0;34m,\u001b[0m \u001b[0mtensor\u001b[0m\u001b[0;34m.\u001b[0m\u001b[0mdtype\u001b[0m\u001b[0;34m)\u001b[0m\u001b[0;34m\u001b[0m\u001b[0;34m\u001b[0m\u001b[0m\n\u001b[1;32m   3791\u001b[0m       \u001b[0mconverted_inputs\u001b[0m\u001b[0;34m.\u001b[0m\u001b[0mappend\u001b[0m\u001b[0;34m(\u001b[0m\u001b[0mvalue\u001b[0m\u001b[0;34m)\u001b[0m\u001b[0;34m\u001b[0m\u001b[0;34m\u001b[0m\u001b[0m\n\u001b[0;32m-> 3792\u001b[0;31m     \u001b[0moutputs\u001b[0m \u001b[0;34m=\u001b[0m \u001b[0mself\u001b[0m\u001b[0;34m.\u001b[0m\u001b[0m_graph_fn\u001b[0m\u001b[0;34m(\u001b[0m\u001b[0;34m*\u001b[0m\u001b[0mconverted_inputs\u001b[0m\u001b[0;34m)\u001b[0m\u001b[0;34m\u001b[0m\u001b[0;34m\u001b[0m\u001b[0m\n\u001b[0m\u001b[1;32m   3793\u001b[0m \u001b[0;34m\u001b[0m\u001b[0m\n\u001b[1;32m   3794\u001b[0m     \u001b[0;31m# EagerTensor.numpy() will often make a copy to ensure memory safety.\u001b[0m\u001b[0;34m\u001b[0m\u001b[0;34m\u001b[0m\u001b[0;34m\u001b[0m\u001b[0m\n",
      "\u001b[0;32m/usr/local/lib/python3.7/site-packages/tensorflow/python/eager/function.py\u001b[0m in \u001b[0;36m__call__\u001b[0;34m(self, *args, **kwargs)\u001b[0m\n\u001b[1;32m   1603\u001b[0m       \u001b[0mTypeError\u001b[0m\u001b[0;34m:\u001b[0m \u001b[0mFor\u001b[0m \u001b[0minvalid\u001b[0m \u001b[0mpositional\u001b[0m\u001b[0;34m/\u001b[0m\u001b[0mkeyword\u001b[0m \u001b[0margument\u001b[0m \u001b[0mcombinations\u001b[0m\u001b[0;34m.\u001b[0m\u001b[0;34m\u001b[0m\u001b[0;34m\u001b[0m\u001b[0m\n\u001b[1;32m   1604\u001b[0m     \"\"\"\n\u001b[0;32m-> 1605\u001b[0;31m     \u001b[0;32mreturn\u001b[0m \u001b[0mself\u001b[0m\u001b[0;34m.\u001b[0m\u001b[0m_call_impl\u001b[0m\u001b[0;34m(\u001b[0m\u001b[0margs\u001b[0m\u001b[0;34m,\u001b[0m \u001b[0mkwargs\u001b[0m\u001b[0;34m)\u001b[0m\u001b[0;34m\u001b[0m\u001b[0;34m\u001b[0m\u001b[0m\n\u001b[0m\u001b[1;32m   1606\u001b[0m \u001b[0;34m\u001b[0m\u001b[0m\n\u001b[1;32m   1607\u001b[0m   \u001b[0;32mdef\u001b[0m \u001b[0m_call_impl\u001b[0m\u001b[0;34m(\u001b[0m\u001b[0mself\u001b[0m\u001b[0;34m,\u001b[0m \u001b[0margs\u001b[0m\u001b[0;34m,\u001b[0m \u001b[0mkwargs\u001b[0m\u001b[0;34m,\u001b[0m \u001b[0mcancellation_manager\u001b[0m\u001b[0;34m=\u001b[0m\u001b[0;32mNone\u001b[0m\u001b[0;34m)\u001b[0m\u001b[0;34m:\u001b[0m\u001b[0;34m\u001b[0m\u001b[0;34m\u001b[0m\u001b[0m\n",
      "\u001b[0;32m/usr/local/lib/python3.7/site-packages/tensorflow/python/eager/function.py\u001b[0m in \u001b[0;36m_call_impl\u001b[0;34m(self, args, kwargs, cancellation_manager)\u001b[0m\n\u001b[1;32m   1643\u001b[0m       raise TypeError(\"Keyword arguments {} unknown. Expected {}.\".format(\n\u001b[1;32m   1644\u001b[0m           list(kwargs.keys()), list(self._arg_keywords)))\n\u001b[0;32m-> 1645\u001b[0;31m     \u001b[0;32mreturn\u001b[0m \u001b[0mself\u001b[0m\u001b[0;34m.\u001b[0m\u001b[0m_call_flat\u001b[0m\u001b[0;34m(\u001b[0m\u001b[0margs\u001b[0m\u001b[0;34m,\u001b[0m \u001b[0mself\u001b[0m\u001b[0;34m.\u001b[0m\u001b[0mcaptured_inputs\u001b[0m\u001b[0;34m,\u001b[0m \u001b[0mcancellation_manager\u001b[0m\u001b[0;34m)\u001b[0m\u001b[0;34m\u001b[0m\u001b[0;34m\u001b[0m\u001b[0m\n\u001b[0m\u001b[1;32m   1646\u001b[0m \u001b[0;34m\u001b[0m\u001b[0m\n\u001b[1;32m   1647\u001b[0m   \u001b[0;32mdef\u001b[0m \u001b[0m_filtered_call\u001b[0m\u001b[0;34m(\u001b[0m\u001b[0mself\u001b[0m\u001b[0;34m,\u001b[0m \u001b[0margs\u001b[0m\u001b[0;34m,\u001b[0m \u001b[0mkwargs\u001b[0m\u001b[0;34m)\u001b[0m\u001b[0;34m:\u001b[0m\u001b[0;34m\u001b[0m\u001b[0;34m\u001b[0m\u001b[0m\n",
      "\u001b[0;32m/usr/local/lib/python3.7/site-packages/tensorflow/python/eager/function.py\u001b[0m in \u001b[0;36m_call_flat\u001b[0;34m(self, args, captured_inputs, cancellation_manager)\u001b[0m\n\u001b[1;32m   1744\u001b[0m       \u001b[0;31m# No tape is watching; skip to running the function.\u001b[0m\u001b[0;34m\u001b[0m\u001b[0;34m\u001b[0m\u001b[0;34m\u001b[0m\u001b[0m\n\u001b[1;32m   1745\u001b[0m       return self._build_call_outputs(self._inference_function.call(\n\u001b[0;32m-> 1746\u001b[0;31m           ctx, args, cancellation_manager=cancellation_manager))\n\u001b[0m\u001b[1;32m   1747\u001b[0m     forward_backward = self._select_forward_and_backward_functions(\n\u001b[1;32m   1748\u001b[0m         \u001b[0margs\u001b[0m\u001b[0;34m,\u001b[0m\u001b[0;34m\u001b[0m\u001b[0;34m\u001b[0m\u001b[0m\n",
      "\u001b[0;32m/usr/local/lib/python3.7/site-packages/tensorflow/python/eager/function.py\u001b[0m in \u001b[0;36mcall\u001b[0;34m(self, ctx, args, cancellation_manager)\u001b[0m\n\u001b[1;32m    596\u001b[0m               \u001b[0minputs\u001b[0m\u001b[0;34m=\u001b[0m\u001b[0margs\u001b[0m\u001b[0;34m,\u001b[0m\u001b[0;34m\u001b[0m\u001b[0;34m\u001b[0m\u001b[0m\n\u001b[1;32m    597\u001b[0m               \u001b[0mattrs\u001b[0m\u001b[0;34m=\u001b[0m\u001b[0mattrs\u001b[0m\u001b[0;34m,\u001b[0m\u001b[0;34m\u001b[0m\u001b[0;34m\u001b[0m\u001b[0m\n\u001b[0;32m--> 598\u001b[0;31m               ctx=ctx)\n\u001b[0m\u001b[1;32m    599\u001b[0m         \u001b[0;32melse\u001b[0m\u001b[0;34m:\u001b[0m\u001b[0;34m\u001b[0m\u001b[0;34m\u001b[0m\u001b[0m\n\u001b[1;32m    600\u001b[0m           outputs = execute.execute_with_cancellation(\n",
      "\u001b[0;32m/usr/local/lib/python3.7/site-packages/tensorflow/python/eager/execute.py\u001b[0m in \u001b[0;36mquick_execute\u001b[0;34m(op_name, num_outputs, inputs, attrs, ctx, name)\u001b[0m\n\u001b[1;32m     58\u001b[0m     \u001b[0mctx\u001b[0m\u001b[0;34m.\u001b[0m\u001b[0mensure_initialized\u001b[0m\u001b[0;34m(\u001b[0m\u001b[0;34m)\u001b[0m\u001b[0;34m\u001b[0m\u001b[0;34m\u001b[0m\u001b[0m\n\u001b[1;32m     59\u001b[0m     tensors = pywrap_tfe.TFE_Py_Execute(ctx._handle, device_name, op_name,\n\u001b[0;32m---> 60\u001b[0;31m                                         inputs, attrs, num_outputs)\n\u001b[0m\u001b[1;32m     61\u001b[0m   \u001b[0;32mexcept\u001b[0m \u001b[0mcore\u001b[0m\u001b[0;34m.\u001b[0m\u001b[0m_NotOkStatusException\u001b[0m \u001b[0;32mas\u001b[0m \u001b[0me\u001b[0m\u001b[0;34m:\u001b[0m\u001b[0;34m\u001b[0m\u001b[0;34m\u001b[0m\u001b[0m\n\u001b[1;32m     62\u001b[0m     \u001b[0;32mif\u001b[0m \u001b[0mname\u001b[0m \u001b[0;32mis\u001b[0m \u001b[0;32mnot\u001b[0m \u001b[0;32mNone\u001b[0m\u001b[0;34m:\u001b[0m\u001b[0;34m\u001b[0m\u001b[0;34m\u001b[0m\u001b[0m\n",
      "\u001b[0;31mKeyboardInterrupt\u001b[0m: "
     ]
    }
   ],
   "source": [
    "history = model.fit(np.array(x_tr),np.array(y_tr),batch_size=128,epochs=50, validation_data=(np.array(x_val),np.array(y_val)),verbose=1, callbacks=[mc])"
   ]
  },
  {
   "cell_type": "code",
   "execution_count": 104,
   "metadata": {},
   "outputs": [],
   "source": [
    "from keras.models import load_model\n",
    "model = load_model('best_model.h5')"
   ]
  },
  {
   "cell_type": "code",
   "execution_count": 122,
   "metadata": {},
   "outputs": [
    {
     "name": "stdout",
     "output_type": "stream",
     "text": [
      "[62, 86, 75, 75, 162, 49, 49, 157, 49, 157, 24, 8, 83, 8, 83, 84, 83, 121, 83, 84]\n"
     ]
    }
   ],
   "source": [
    "import random\n",
    "ind = np.random.randint(0,len(x_val)-1)\n",
    "\n",
    "random_music = x_val[ind]\n",
    "\n",
    "predictions=[]\n",
    "for i in range(20):\n",
    "\n",
    "    random_music = random_music.reshape(1,no_of_timesteps)\n",
    "\n",
    "    prob  = model.predict(random_music)[0]\n",
    "    y_pred= np.argmax(prob,axis=0)\n",
    "    predictions.append(y_pred)\n",
    "\n",
    "    random_music = np.insert(random_music[0],len(random_music[0]),y_pred)\n",
    "    random_music = random_music[1:]\n",
    "    \n",
    "print(predictions)"
   ]
  },
  {
   "cell_type": "code",
   "execution_count": 123,
   "metadata": {},
   "outputs": [],
   "source": [
    "x_int_to_note = dict((number, note_) for number, note_ in enumerate(unique_x)) \n",
    "predicted_notes = [x_int_to_note[i] for i in predictions]"
   ]
  },
  {
   "cell_type": "code",
   "execution_count": 125,
   "metadata": {},
   "outputs": [],
   "source": [
    "def convert_to_midi(prediction_output):\n",
    "   \n",
    "    offset = 0\n",
    "    output_notes = []\n",
    "\n",
    "    # create note and chord objects based on the values generated by the model\n",
    "    for pattern in prediction_output:\n",
    "        \n",
    "        # pattern is a chord\n",
    "        if ('.' in pattern) or pattern.isdigit():\n",
    "            notes_in_chord = pattern.split('.')\n",
    "            notes = []\n",
    "            for current_note in notes_in_chord:\n",
    "                \n",
    "                cn=int(current_note)\n",
    "                new_note = note.Note(cn)\n",
    "                new_note.storedInstrument = instrument.ChurchBells()\n",
    "                notes.append(new_note)\n",
    "                \n",
    "            new_chord = chord.Chord(notes)\n",
    "            new_chord.offset = offset\n",
    "            output_notes.append(new_chord)\n",
    "            \n",
    "        # pattern is a note\n",
    "        else:\n",
    "            \n",
    "            new_note = note.Note(pattern)\n",
    "            new_note.offset = offset\n",
    "            new_note.storedInstrument = instrument.ChurchBells()\n",
    "            output_notes.append(new_note)\n",
    "\n",
    "        # increase offset each iteration so that notes do not stack\n",
    "        offset += 1\n",
    "    midi_stream = stream.Stream(output_notes)\n",
    "    midi_stream.write('midi', fp='music.mid')"
   ]
  },
  {
   "cell_type": "code",
   "execution_count": 126,
   "metadata": {},
   "outputs": [],
   "source": [
    "convert_to_midi(predicted_notes)\n"
   ]
  },
  {
   "cell_type": "code",
   "execution_count": null,
   "metadata": {},
   "outputs": [],
   "source": []
  },
  {
   "cell_type": "code",
   "execution_count": null,
   "metadata": {},
   "outputs": [],
   "source": [
    "\n",
    "\n",
    "\n"
   ]
  }
 ],
 "metadata": {
  "kernelspec": {
   "display_name": "Python 3",
   "language": "python",
   "name": "python3"
  },
  "language_info": {
   "codemirror_mode": {
    "name": "ipython",
    "version": 3
   },
   "file_extension": ".py",
   "mimetype": "text/x-python",
   "name": "python",
   "nbconvert_exporter": "python",
   "pygments_lexer": "ipython3",
   "version": "3.7.7"
  }
 },
 "nbformat": 4,
 "nbformat_minor": 4
}
